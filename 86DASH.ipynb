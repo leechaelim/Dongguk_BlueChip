{
 "cells": [
  {
   "cell_type": "markdown",
   "metadata": {
    "id": "5ktYYvVid2Qt"
   },
   "source": [
    "## 동국블루칩 포트폴리오 최적화 서비스"
   ]
  },
  {
   "cell_type": "code",
   "execution_count": 1,
   "metadata": {},
   "outputs": [],
   "source": [
    "import ipywidgets as widgets\n",
    "from ipywidgets import Layout\n",
    "\n",
    "from IPython.display import Image\n",
    "import matplotlib.pyplot as plt\n",
    "import matplotlib.image as img\n",
    "\n",
    "import sys\n",
    "mod = sys.modules[__name__]"
   ]
  },
  {
   "cell_type": "code",
   "execution_count": 2,
   "metadata": {
    "id": "Te-euJRfd2Qy"
   },
   "outputs": [],
   "source": [
    "from pulp import *\n",
    "#from pypfopt.efficient_frontier import EfficientFrontier\n",
    "#from pypfopt import risk_models\n",
    "#from pypfopt import expected_returns\n",
    "import numpy as np\n",
    "import pandas as pd"
   ]
  },
  {
   "cell_type": "code",
   "execution_count": 5,
   "metadata": {
    "id": "PkeneeOwubrH"
   },
   "outputs": [],
   "source": [
    "import matplotlib.pyplot as plt\n",
    "from matplotlib import font_manager, rc\n",
    "from matplotlib import style"
   ]
  },
  {
   "cell_type": "code",
   "execution_count": 8,
   "metadata": {},
   "outputs": [],
   "source": [
    "\n",
    "font_name = font_manager.FontProperties(fname=\"fonts/malgunsl.ttf\").get_name()\n",
    "rc('font',family=font_name)"
   ]
  },
  {
   "cell_type": "code",
   "execution_count": 5,
   "metadata": {},
   "outputs": [],
   "source": [
    "#종목별 성능 불러오기\n",
    "test_result=pd.read_csv(\"performance_87code.csv\")"
   ]
  },
  {
   "cell_type": "code",
   "execution_count": 6,
   "metadata": {
    "id": "oJc7FjwvTjp9"
   },
   "outputs": [],
   "source": [
    "csv_name_list=[\"A000100_유한양행\",\n",
    "\"A000120_대한통운\",\n",
    "\"A000270_기아차\",\n",
    "\"A000660_SK하이닉스\",\n",
    "\"A000720_현대건설\",\n",
    "\"A000810_삼성화재\",\n",
    "\"A002790_아모레G\",\n",
    "\"A003410_쌍용양회\",\n",
    "\"A003490_대한항공\",\n",
    "\"A003550_LG\",\n",
    "\"A003670_포스코케미칼\",\n",
    "\"A004020_현대제철\",\n",
    "\"A004990_롯데지주\",\n",
    "\"A005380_현대차\",\n",
    "\"A005387_현대차2우B\",\n",
    "\"A005490_POSCO\",\n",
    "\"A005830_DB손해보험\",\n",
    "\"A005930_삼성전자\",\n",
    "\"A005935_삼성전자우\",\n",
    "\"A005940_NH투자증권\",\n",
    "\"A006280_녹십자\",\n",
    "\"A006360_GS건설\",\n",
    "\"A006400_삼성SDI\",\n",
    "\"A006800_미래에셋대우\",\n",
    "\"A007070_GS리테일\",\n",
    "\"A008560_메리츠증권\",\n",
    "\"A008770_호텔신라\",\n",
    "\"A008930_한미사이언스\",\n",
    "\"A009150_삼성전기\",\n",
    "\"A009540_한국조선해양\",\n",
    "\"A009830_한화솔루션\",\n",
    "\"A010130_고려아연\",\n",
    "\"A010140_삼성중공업\",\n",
    "\"A010950_S-Oil\",\n",
    "\"A011070_LG이노텍\",\n",
    "\"A011170_롯데케미칼\",\n",
    "\"A011200_HMM\",\n",
    "\"A011780_금호석유\",\n",
    "\"A011790_SKC\",\n",
    "\"A012330_현대모비스\",\n",
    "\"A012510_더존비즈온\",\n",
    "\"A012750_에스원\",\n",
    "\"A015760_한국전력\",\n",
    "\"A016360_삼성증권\",\n",
    "\"A017670_SK텔레콤\",\n",
    "\"A018260_삼성에스디에스\",\n",
    "\"A018880_한온시스템\",\n",
    "\"A019170_신풍제약\",              \n",
    "\"A021240_코웨이\",\n",
    "\"A023530_롯데쇼핑\",\n",
    "\"A024110_기업은행\",\n",
    "\"A026960_동서\",\n",
    "\"A028260_삼성물산\",\n",
    "\"A028670_팬오션\",\n",
    "\"A029780_삼성카드\",\n",
    "\"A030200_KT\",\n",
    "\"A032640_LG유플러스\",\n",
    "\"A032830_삼성생명\",\n",
    "\"A033780_KT_G\",\n",
    "\"A034020_두산중공업\",\n",
    "\"A034220_LG디스플레이\",\n",
    "\"A034730_SK\",\n",
    "\"A035250_강원랜드\",\n",
    "\"A035420_NAVER\",\n",
    "\"A035720_카카오\",\n",
    "\"A036460_한국가스공사\",\n",
    "\"A036570_엔씨소프트\",\n",
    "\"A039490_키움증권\",\n",
    "\"A047810_한국항공우주\",\n",
    "\"A051900_LG생활건강\",\n",
    "\"A051910_LG화학\",\n",
    "\"A055550_신한지주\",\n",
    "\"A066570_LG전자\",\n",
    "\"A068270_셀트리온\",\n",
    "\"A071050_한국금융지주\",\n",
    "\"A078930_GS\",\n",
    "\"A086280_현대글로비스\",\n",
    "\"A086790_하나금융지주\",\n",
    "\"A090430_아모레퍼시픽\",\n",
    "\"A096770_SK이노베이션\",\n",
    "\"A097950_CJ제일제당\",\n",
    "\"A105560_KB금융\",\n",
    "\"A128940_한미약품\",\n",
    "\"A139480_이마트\",\n",
    "\"A161390_한국타이어앤테크놀로지\",\n",
    "\"A180640_한진칼\",\n",
    "\"A204320_만도\"]\n",
    "\n",
    "\n",
    "csv_list = []\n",
    "for i in range(len(csv_name_list)):    \n",
    "    csv_list.append(csv_name_list[i][:7])\n",
    "    csv_name_list[i] = csv_name_list[i][1:]\n"
   ]
  },
  {
   "cell_type": "code",
   "execution_count": 7,
   "metadata": {},
   "outputs": [],
   "source": [
    "name = []\n",
    "#종목별 예측 결과 불러오기\n",
    "for i in range(len(test_result)):\n",
    "    if test_result[\"result\"][i]==\"N\": #성능이 엔비트가 더 좋을때 엔비트 csv 불러옴\n",
    "        name.append(str(i))\n",
    "        name[i]=pd.read_csv(\"최종/\"+csv_list[i]+\"n_beats_prediction_(3200, 800).csv\")\n",
    "        name[i].Date=pd.to_datetime(name[i].Date,format='%Y-%m-%d %H:%M:%S')\n",
    "        name[i]={'Date':name[i]['Date'][-791:], csv_list[i]:name[i]['예측 시가'][-791:]}\n",
    "        #예측된 Open 소수점 수정\n",
    "        name[i][csv_list[i]]=name[i][csv_list[i]].round()\n",
    "        name[i]=pd.DataFrame(name[i])\n",
    "\n",
    "        name[i]=name[i].reset_index(drop=True)\n",
    "        name[i]['time_idx']=name[i].index\n",
    "    if test_result[\"result\"][i]==\"LGBM\": #성능이 LGBM이 더 좋을때 LGBM csv 불러옴\n",
    "        name.append(str(i))\n",
    "        name[i]=pd.read_csv(\"lgbm/A000720smape_20.814_prediction_REAL.csv\") #lgbm csv이름이 다달라서,,,,일단 예시로 하나만 불러옴 \n",
    "        name[i].Date=pd.to_datetime(name[i].Date,format='%Y-%m-%d %H:%M:%S')\n",
    "        name[i]={'Date':name[i]['Date'][:791], csv_list[i]:name[i]['predict'][:791]}\n",
    "        #예측된 Open 소수점 수정\n",
    "        name[i][csv_list[i]]=name[i][csv_list[i]].round()\n",
    "        name[i]=pd.DataFrame(name[i])\n",
    "\n",
    "        name[i]=name[i].reset_index(drop=True)\n",
    "        name[i]['time_idx']=name[i].index\n"
   ]
  },
  {
   "cell_type": "code",
   "execution_count": 8,
   "metadata": {
    "colab": {
     "base_uri": "https://localhost:8080/",
     "height": 507
    },
    "id": "K1CCVnh6mIoX",
    "outputId": "75570ddb-5346-473a-8790-fe67ce9aa156"
   },
   "outputs": [],
   "source": [
    "#최소 시가 계산, 이건 최소값 제일 옛날 인덱스 저장\n",
    "min_value_list=[]\n",
    "min_value_index_list=[]\n",
    "min_i = 0\n",
    "for i in range(len(csv_list)):\n",
    "    min_value_list.append(min(name[i][csv_list[i]]))\n",
    "    for j in range(791):\n",
    "        if name[i][csv_list[i]][j]==min(name[i][csv_list[i]]):\n",
    "            min_value_index_list.append(j)\n",
    "            break\n",
    "\n",
    "#최대 시가 계산 최대값중에 제일 최근 인덱스 저장\n",
    "max_value_list=[]\n",
    "max_value_index_list=[]\n",
    "\n",
    "for i in range(len(csv_list)):\n",
    "    name[i]=name[i].sort_values(by=[csv_list[i]], axis=0)\n",
    "    max_list_fake = name[i].copy()\n",
    "    max_list_fake=max_list_fake.reset_index(drop=True)\n",
    "    for k in range(791):\n",
    "        if min_value_index_list[i]<max_list_fake.loc[k].time_idx:\n",
    "            max_value_index=max_list_fake.loc[k].time_idx\n",
    "\n",
    "    max_value_list.append(name[i][csv_list[i]][max_value_index])\n",
    "    max_value_index_list.append(max_value_index)\n",
    "\n",
    "profit = []\n",
    "for i in range(len(csv_list)):\n",
    "    profit.append(max_value_list[i]-min_value_list[i])\n",
    "\n",
    "DF = {'min_value_index_list':min_value_index_list,'max_value_index_list':max_value_index_list,'min_value_list':min_value_list,'max_value_list':max_value_list,'profit':profit}\n",
    "DF = pd.DataFrame(DF)\n",
    "#DF"
   ]
  },
  {
   "cell_type": "code",
   "execution_count": null,
   "metadata": {},
   "outputs": [],
   "source": [
    "####예측 정확도 중점\n",
    "score_smape=[]\n",
    "for i in range(len(test_result)):\n",
    "    if test_result['SMAPE'][i] <= 0.05:\n",
    "        score_smape.append(10)\n",
    "    elif test_result['SMAPE'][i] <= 0.1:\n",
    "        score_smape.append(8)\n",
    "    elif test_result['SMAPE'][i] <= 0.15:\n",
    "        score_smape.append(6)\n",
    "    elif test_result['SMAPE'][i] <= 0.20:\n",
    "        score_smape.append(4)\n",
    "    elif test_result['SMAPE'][i] <= 0.25:\n",
    "        score_smape.append(2)\n",
    "    else:\n",
    "        score_smape.append(0)\n",
    "        \n",
    "score_mase=[]\n",
    "for i in range(len(test_result)):\n",
    "    if test_result['MASE'][i] <= 15:\n",
    "        score_mase.append(10)\n",
    "    elif test_result['MASE'][i] <= 20:\n",
    "        score_mase.append(8)\n",
    "    elif test_result['MASE'][i] <= 25:\n",
    "        score_mase.append(6)\n",
    "    elif test_result['MASE'][i] <= 30:\n",
    "        score_mase.append(4)\n",
    "    elif test_result['MASE'][i] <= 35:\n",
    "        score_mase.append(2)\n",
    "    else:\n",
    "        score_mase.append(0)\n",
    "     "
   ]
  },
  {
   "cell_type": "markdown",
   "metadata": {},
   "source": [
    "## 포트폴리오 제작\n",
    "### 정보 입력"
   ]
  },
  {
   "cell_type": "code",
   "execution_count": 100,
   "metadata": {},
   "outputs": [],
   "source": [
    "def optimization_final(seed, num): # 수익률 중점\n",
    "    portfolio_num = num #추천 종목 수 \n",
    "\n",
    "    prob = LpProblem(\"The_Optimization_Problem_1\", LpMaximize)\n",
    "    sellprice = dict(zip(csv_list, min_value_list))\n",
    "    buyprice = dict(zip(csv_list, max_value_list))\n",
    "    IntShares = LpVariable.dicts('IntShares', csv_list, lowBound=0, cat='Integer')\n",
    "\n",
    "    # 종목별 몇 주씩? 최소 0, 최대 X  # Initialize integer variables, constrain to 10 maximum shares\n",
    "    BinTicker = LpVariable.dicts('BinTicker', csv_list, cat='Binary')  # Initialize binary variables\n",
    "    prob += lpSum(IntShares[i] * (buyprice[i]-sellprice[i]) for i in csv_list)  # Objective Function\n",
    "\n",
    "    prob += lpSum([IntShares[i] * sellprice[i] for i in csv_list]) <= seed, 'Budget (500000)'\n",
    "    prob += lpSum([BinTicker[i] for i in csv_list]) == portfolio_num, 'Min Tickers (5)'\n",
    "\n",
    "\n",
    "    for i in csv_list:\n",
    "        prob += (IntShares[i] - ((9999 * BinTicker[i]))) <= 0 #여기!!!!!!!!!!!!!!!!!!!!!!!!\n",
    "        prob += (IntShares[i] - (.5 * BinTicker[i])) >= 0\n",
    "        prob += (IntShares[i] * sellprice[i] ) <= lpSum([IntShares[i] * sellprice[i] for i in csv_list])  *0.3\n",
    "        prob.writeLP(\"OptimizationModel1.lp\")\n",
    "        prob.solve()\n",
    "    \n",
    "\n",
    "    sum = 0\n",
    "    buy = 0\n",
    "    left_coin=seed\n",
    "\n",
    "\n",
    "    num_list=[]\n",
    "    name_list=[]\n",
    "    for v in prob.variables()[-87:]:\n",
    "        num_list.append(v.varValue)\n",
    "        name_list.append(v.name)\n",
    "\n",
    "    for i in range(len(csv_list)):\n",
    "        if num_list[i] != 0:\n",
    "            buy += min_value_list[i]*num_list[i]\n",
    "            sum += profit[i]*num_list[i]\n",
    "            left_coin -= min_value_list[i]*num_list[i]\n",
    "\n",
    "    pie_stock_list=[]\n",
    "    pie_ratio_list=[]\n",
    "\n",
    "    for i in range(len(csv_list)):\n",
    "        if num_list[i] != 0:\n",
    "            pie_stock_list.append(csv_name_list[i])\n",
    "            pie_ratio_list.append(min_value_list[i]*num_list[i]/buy)\n",
    "\n",
    "    wedgeprops={'width':0.7, 'edgecolor':'w','linewidth':5}\n",
    "    colors = ['#ff9999', '#ffc000', '#8fd9b6', '#d395d0','#a293c1']\n",
    "    plt.pie(pie_ratio_list,labels=pie_stock_list,autopct=\"%d%%\",colors=colors,wedgeprops=wedgeprops)\n",
    "\n",
    "    plt.show()\n",
    "    print(\"-----------------------------------\")\n",
    "    print(\"type : 수익 추구\")\n",
    "    print(\"투자금\\t\\t\",int(seed),\"원\")\n",
    "    print(\"매수금\\t\\t\",int(buy),\"원\")\n",
    "    print(\"총 수익\\t\\t\",int(sum),\"원\")\n",
    "    print(\"총 수익률\\t\",round(int(sum)/int(buy) * 100,3),\" %\")\n",
    "    print(\"남은 금액\\t\",int(left_coin),\"원\")\n",
    "    print(\"-----------------------------------\")\n",
    "\n",
    "    for i in range(len(csv_list)):\n",
    "        if num_list[i] != 0:\n",
    "            print(\"< \"+csv_name_list[i]+\" 매수량:   \"+str(int(num_list[i]))+\"주 >\")\n",
    "            print(\"매수\\t\\t\",name[i]['Date'][min_value_index_list[i]])\n",
    "            print(\"매수 가격\\t\",int(min_value_list[i]),\"원\")\n",
    "            print(\"매도\\t\\t\",name[i]['Date'][max_value_index_list[i]])\n",
    "            print(\"매도 가격\\t\",int(max_value_list[i]),\"원\")\n",
    "            print(\"주당 수익\\t\",int(profit[i]),\"원\")\n",
    "            print(\"종목 수익\\t\",int(profit[i]*num_list[i]),\"원\")\n",
    "            #print(\"비율\",min_value_list[i]*num_list[i]/buy)\n",
    "            print(\"\")\n",
    "    "
   ]
  },
  {
   "cell_type": "code",
   "execution_count": 24,
   "metadata": {},
   "outputs": [],
   "source": [
    "def optimization_score(seed , num): #정확도 중점\n",
    "    portfolio_num = num #추천 종목 수 \n",
    "\n",
    "    prob = LpProblem(\"The_Optimization_Problem_2\", LpMaximize)\n",
    "    sellprice = dict(zip(csv_list, min_value_list))\n",
    "    buyprice = dict(zip(csv_list, max_value_list))\n",
    "    Score_smape = dict(zip(csv_list, score_smape))\n",
    "    Score_mase = dict(zip(csv_list, score_mase))\n",
    "    IntShares = LpVariable.dicts('IntShares', csv_list, lowBound=0, cat='Integer')\n",
    "\n",
    "    # 종목별 몇 주씩? 최소 0, 최대 X  # Initialize integer variables, constrain to 10 maximum shares\n",
    "    BinTicker = LpVariable.dicts('BinTicker', csv_list, cat='Binary')  # Initialize binary variables\n",
    "    prob += lpSum(IntShares[i] * (Score_smape[i] + Score_mase[i]) * (buyprice[i]-sellprice[i]) for i in csv_list)  # Objective Function\n",
    "\n",
    "    prob += lpSum([IntShares[i] * sellprice[i] for i in csv_list]) <= seed, 'Budget (500000)'\n",
    "    prob += lpSum([BinTicker[i] for i in csv_list]) == portfolio_num, 'Min Tickers (5)'\n",
    "\n",
    "\n",
    "    for i in csv_list:\n",
    "        prob += (IntShares[i] - ((9999 * BinTicker[i]))) <= 0 #여기!!!!!!!!!!!!!!!!!!!!!!!!\n",
    "        prob += (IntShares[i] - (.5 * BinTicker[i])) >= 0\n",
    "        prob += (IntShares[i] * sellprice[i] ) <= lpSum([IntShares[i] * sellprice[i] for i in csv_list])  *0.3\n",
    "        prob.writeLP(\"OptimizationModel2.lp\")\n",
    "        prob.solve()\n",
    "    \n",
    "\n",
    "    sum = 0\n",
    "    buy = 0\n",
    "    left_coin=seed\n",
    "\n",
    "\n",
    "    num_list=[]\n",
    "    name_list=[]\n",
    "    for v in prob.variables()[-87:]:\n",
    "        num_list.append(v.varValue)\n",
    "        name_list.append(v.name)\n",
    "\n",
    "    for i in range(len(csv_list)):\n",
    "        if num_list[i] != 0:\n",
    "            buy += min_value_list[i]*num_list[i]\n",
    "            sum += profit[i]*num_list[i]\n",
    "            left_coin -= min_value_list[i]*num_list[i]\n",
    "\n",
    "    pie_stock_list=[]\n",
    "    pie_ratio_list=[]\n",
    "\n",
    "    for i in range(len(csv_list)):\n",
    "        if num_list[i] != 0:\n",
    "            pie_stock_list.append(csv_name_list[i])\n",
    "            pie_ratio_list.append(min_value_list[i]*num_list[i]/buy)\n",
    "\n",
    "    wedgeprops={'width':0.7, 'edgecolor':'w','linewidth':5}\n",
    "    colors = ['#ff9999', '#ffc000', '#8fd9b6', '#d395d0','#a293c1']\n",
    "    plt.pie(pie_ratio_list,labels=pie_stock_list,autopct=\"%d%%\",colors=colors,wedgeprops=wedgeprops)\n",
    "\n",
    "    plt.show()\n",
    "    print(\"-----------------------------------\")\n",
    "    print(\"type : 안정성 추구\")\n",
    "    print(\"투자금\\t\\t\",int(seed),\"원\")\n",
    "    print(\"매수금\\t\\t\",int(buy),\"원\")\n",
    "    print(\"총 수익\\t\\t\",int(sum),\"원\")\n",
    "    print(\"총 수익률\\t\",round(int(sum)/int(buy) * 100,3),\" %\")\n",
    "    print(\"남은 금액\\t\",int(left_coin),\"원\")\n",
    "    print(\"-----------------------------------\")\n",
    "\n",
    "    for i in range(len(csv_list)):\n",
    "        if num_list[i] != 0:\n",
    "            print(\"< \"+csv_name_list[i]+\" 매수량:   \"+str(int(num_list[i]))+\"주 >\")\n",
    "            print(\"매수\\t\\t\",name[i]['Date'][min_value_index_list[i]])\n",
    "            print(\"매수 가격\\t\",int(min_value_list[i]),\"원\")\n",
    "            print(\"매도\\t\\t\",name[i]['Date'][max_value_index_list[i]])\n",
    "            print(\"매도 가격\\t\",int(max_value_list[i]),\"원\")\n",
    "            print(\"주당 수익\\t\",int(profit[i]),\"원\")\n",
    "            print(\"종목 수익\\t\",int(profit[i]*num_list[i]),\"원\")\n",
    "            #print(\"비율\",min_value_list[i]*num_list[i]/buy)\n",
    "            print(\"\")\n",
    "    "
   ]
  },
  {
   "cell_type": "code",
   "execution_count": 112,
   "metadata": {
    "scrolled": false
   },
   "outputs": [
    {
     "name": "stdout",
     "output_type": "stream",
     "text": [
      "1. 투자 금액을 입력하세요.(단위:만)\n"
     ]
    },
    {
     "data": {
      "application/vnd.jupyter.widget-view+json": {
       "model_id": "e215a0b64e674637a900e0a94c700019",
       "version_major": 2,
       "version_minor": 0
      },
      "text/plain": [
       "BoundedIntText(value=50, description='투자 금액 :', max=999999999999)"
      ]
     },
     "metadata": {},
     "output_type": "display_data"
    },
    {
     "data": {
      "application/vnd.jupyter.widget-view+json": {
       "model_id": "019af1665fe542c8bb54cf3b67b835dc",
       "version_major": 2,
       "version_minor": 0
      },
      "text/plain": [
       "HBox(children=(Label(value='투자 금액 :'), Label(value='50')))"
      ]
     },
     "metadata": {},
     "output_type": "display_data"
    }
   ],
   "source": [
    "seed_input = 0\n",
    "print(\"1. 투자 금액을 입력하세요.(단위:만)\")\n",
    "widget_seed = widgets.BoundedIntText(\n",
    "    value=50,\n",
    "    min=0,\n",
    "    max=999999999999,\n",
    "    step=1,\n",
    "    description='투자 금액 :',\n",
    ")\n",
    "\n",
    "\n",
    "value_lbl = widgets.Label()\n",
    "seed_input = value_lbl\n",
    "transform = lambda x: str(x)\n",
    "widgets.dlink((widget_seed, 'value'), (value_lbl, 'value'), transform)\n",
    "\n",
    "display(widget_seed)\n",
    "#display(widget_seed, widgets.HBox([widgets.Label(\"투자 금액 :\"), value_lbl]) )"
   ]
  },
  {
   "cell_type": "code",
   "execution_count": 93,
   "metadata": {},
   "outputs": [
    {
     "name": "stdout",
     "output_type": "stream",
     "text": [
      "2. 투자 종목 수를 입력하세요.(최대 10개)\n"
     ]
    },
    {
     "data": {
      "application/vnd.jupyter.widget-view+json": {
       "model_id": "5c78b6afa4444f0faf40ca31c785f352",
       "version_major": 2,
       "version_minor": 0
      },
      "text/plain": [
       "BoundedIntText(value=5, description='투자 종목 수 :', max=10)"
      ]
     },
     "metadata": {},
     "output_type": "display_data"
    },
    {
     "data": {
      "application/vnd.jupyter.widget-view+json": {
       "model_id": "d51bfda648b84f0abbf59db5989b3f2e",
       "version_major": 2,
       "version_minor": 0
      },
      "text/plain": [
       "HBox(children=(Label(value='Current Value:'), Label(value='5')))"
      ]
     },
     "metadata": {},
     "output_type": "display_data"
    }
   ],
   "source": [
    "jongmoc_num_input = 5\n",
    "print(\"2. 투자 종목 수를 입력하세요.(최대 10개)\")\n",
    "widget_number = widgets.BoundedIntText(\n",
    "    value=5,\n",
    "    min=0,\n",
    "    max=10,\n",
    "    step=1,\n",
    "    description='투자 종목 수 :',\n",
    ")\n",
    "\n",
    "value_lbl2 = widgets.Label()\n",
    "jongmoc_num_input = value_lbl2\n",
    "transform = lambda x: str(x)\n",
    "widgets.dlink((widget_number, 'value'), (value_lbl2, 'value'), transform)\n",
    "\n",
    "display(widget_number)\n",
    "#display(widget_number, widgets.HBox([widgets.Label(\"Current Value:\"), value_lbl2]) )\n"
   ]
  },
  {
   "cell_type": "code",
   "execution_count": 115,
   "metadata": {},
   "outputs": [
    {
     "name": "stdout",
     "output_type": "stream",
     "text": [
      "3. 투자 방식을 선택하세요.\n"
     ]
    },
    {
     "data": {
      "application/vnd.jupyter.widget-view+json": {
       "model_id": "3820b78b29e24f78b7dd98744e0fbf1b",
       "version_major": 2,
       "version_minor": 0
      },
      "text/plain": [
       "Dropdown(description='투자 방식:', options=('수익률 중점', '안정성 중점'), value='수익률 중점')"
      ]
     },
     "metadata": {},
     "output_type": "display_data"
    }
   ],
   "source": [
    "print(\"3. 투자 방식을 선택하세요.\")\n",
    "type_Dropdown = widgets.Dropdown(\n",
    "    options=['수익률 중점', '안정성 중점'],\n",
    "    value='수익률 중점',\n",
    "    description='투자 방식:',\n",
    "    disabled=False,\n",
    ")\n",
    "value_lbl3 = widgets.Label()\n",
    "type_input = value_lbl3\n",
    "transform = lambda x: str(x)\n",
    "widgets.dlink((type_Dropdown, 'value'), (value_lbl3, 'value'), transform)\n",
    "\n",
    "display(type_Dropdown)"
   ]
  },
  {
   "cell_type": "code",
   "execution_count": 108,
   "metadata": {
    "scrolled": true
   },
   "outputs": [
    {
     "data": {
      "application/vnd.jupyter.widget-view+json": {
       "model_id": "89815b7fa24643a19efaf0ffddd9e4d6",
       "version_major": 2,
       "version_minor": 0
      },
      "text/plain": [
       "Button(description='포트폴리오 제작', icon='check', style=ButtonStyle(), tooltip='Click me')"
      ]
     },
     "metadata": {},
     "output_type": "display_data"
    },
    {
     "data": {
      "application/vnd.jupyter.widget-view+json": {
       "model_id": "5b64e1f01a8b4194890cbd6f26bc78fb",
       "version_major": 2,
       "version_minor": 0
      },
      "text/plain": [
       "Output()"
      ]
     },
     "metadata": {},
     "output_type": "display_data"
    }
   ],
   "source": [
    "button = widgets.Button(\n",
    "    description='포트폴리오 제작',\n",
    "    disabled=False,\n",
    "    button_style='', # 'success', 'info', 'warning', 'danger' or ''\n",
    "    tooltip='Click me',\n",
    "    icon='check' # (FontAwesome names without the `fa-` prefix)\n",
    ")\n",
    "output = widgets.Output()\n",
    "\n",
    "display(button, output)\n",
    "\n",
    "def on_button_clicked(button):\n",
    "    with output:\n",
    "        if type_input.value == '수익률 중점':\n",
    "            optimization_final(int(seed_input.value)*10000,int(jongmoc_num_input.value) )\n",
    "        if type_input.value == '안정성 중점':\n",
    "            optimization_score(int(seed_input.value)*10000,int(jongmoc_num_input.value) )\n",
    "            \n",
    "button.on_click(on_button_clicked)        "
   ]
  }
 ],
 "metadata": {
  "colab": {
   "collapsed_sections": [],
   "name": "선형계획법_매수매도 최종 86종목.ipynb의 사본+파이 차트",
   "provenance": []
  },
  "kernelspec": {
   "display_name": "Python 3",
   "language": "python",
   "name": "python3"
  },
  "language_info": {
   "codemirror_mode": {
    "name": "ipython",
    "version": 3
   },
   "file_extension": ".py",
   "mimetype": "text/x-python",
   "name": "python",
   "nbconvert_exporter": "python",
   "pygments_lexer": "ipython3",
   "version": "3.8.5"
  }
 },
 "nbformat": 4,
 "nbformat_minor": 1
}
